{
 "cells": [
  {
   "cell_type": "code",
   "execution_count": 1,
   "id": "301906ad-dfcd-4278-944e-f0be85dc983a",
   "metadata": {},
   "outputs": [],
   "source": [
    "import numpy as np\n",
    "import pandas as pd\n",
    "\n",
    "import open_data\n",
    "\n",
    "data = open_data.open()\n",
    "df = data['df']"
   ]
  },
  {
   "cell_type": "code",
   "execution_count": 2,
   "id": "1965803e-c97e-4388-ae8e-a5575ef84453",
   "metadata": {},
   "outputs": [],
   "source": [
    "from sklearn.linear_model import LogisticRegression\n",
    "from sklearn.linear_model import LogisticRegressionCV\n"
   ]
  },
  {
   "cell_type": "code",
   "execution_count": 3,
   "id": "a7c1fe42-ee08-49a3-a909-e12013888b5e",
   "metadata": {},
   "outputs": [
    {
     "data": {
      "text/html": [
       "<style>#sk-container-id-1 {color: black;background-color: white;}#sk-container-id-1 pre{padding: 0;}#sk-container-id-1 div.sk-toggleable {background-color: white;}#sk-container-id-1 label.sk-toggleable__label {cursor: pointer;display: block;width: 100%;margin-bottom: 0;padding: 0.3em;box-sizing: border-box;text-align: center;}#sk-container-id-1 label.sk-toggleable__label-arrow:before {content: \"▸\";float: left;margin-right: 0.25em;color: #696969;}#sk-container-id-1 label.sk-toggleable__label-arrow:hover:before {color: black;}#sk-container-id-1 div.sk-estimator:hover label.sk-toggleable__label-arrow:before {color: black;}#sk-container-id-1 div.sk-toggleable__content {max-height: 0;max-width: 0;overflow: hidden;text-align: left;background-color: #f0f8ff;}#sk-container-id-1 div.sk-toggleable__content pre {margin: 0.2em;color: black;border-radius: 0.25em;background-color: #f0f8ff;}#sk-container-id-1 input.sk-toggleable__control:checked~div.sk-toggleable__content {max-height: 200px;max-width: 100%;overflow: auto;}#sk-container-id-1 input.sk-toggleable__control:checked~label.sk-toggleable__label-arrow:before {content: \"▾\";}#sk-container-id-1 div.sk-estimator input.sk-toggleable__control:checked~label.sk-toggleable__label {background-color: #d4ebff;}#sk-container-id-1 div.sk-label input.sk-toggleable__control:checked~label.sk-toggleable__label {background-color: #d4ebff;}#sk-container-id-1 input.sk-hidden--visually {border: 0;clip: rect(1px 1px 1px 1px);clip: rect(1px, 1px, 1px, 1px);height: 1px;margin: -1px;overflow: hidden;padding: 0;position: absolute;width: 1px;}#sk-container-id-1 div.sk-estimator {font-family: monospace;background-color: #f0f8ff;border: 1px dotted black;border-radius: 0.25em;box-sizing: border-box;margin-bottom: 0.5em;}#sk-container-id-1 div.sk-estimator:hover {background-color: #d4ebff;}#sk-container-id-1 div.sk-parallel-item::after {content: \"\";width: 100%;border-bottom: 1px solid gray;flex-grow: 1;}#sk-container-id-1 div.sk-label:hover label.sk-toggleable__label {background-color: #d4ebff;}#sk-container-id-1 div.sk-serial::before {content: \"\";position: absolute;border-left: 1px solid gray;box-sizing: border-box;top: 0;bottom: 0;left: 50%;z-index: 0;}#sk-container-id-1 div.sk-serial {display: flex;flex-direction: column;align-items: center;background-color: white;padding-right: 0.2em;padding-left: 0.2em;position: relative;}#sk-container-id-1 div.sk-item {position: relative;z-index: 1;}#sk-container-id-1 div.sk-parallel {display: flex;align-items: stretch;justify-content: center;background-color: white;position: relative;}#sk-container-id-1 div.sk-item::before, #sk-container-id-1 div.sk-parallel-item::before {content: \"\";position: absolute;border-left: 1px solid gray;box-sizing: border-box;top: 0;bottom: 0;left: 50%;z-index: -1;}#sk-container-id-1 div.sk-parallel-item {display: flex;flex-direction: column;z-index: 1;position: relative;background-color: white;}#sk-container-id-1 div.sk-parallel-item:first-child::after {align-self: flex-end;width: 50%;}#sk-container-id-1 div.sk-parallel-item:last-child::after {align-self: flex-start;width: 50%;}#sk-container-id-1 div.sk-parallel-item:only-child::after {width: 0;}#sk-container-id-1 div.sk-dashed-wrapped {border: 1px dashed gray;margin: 0 0.4em 0.5em 0.4em;box-sizing: border-box;padding-bottom: 0.4em;background-color: white;}#sk-container-id-1 div.sk-label label {font-family: monospace;font-weight: bold;display: inline-block;line-height: 1.2em;}#sk-container-id-1 div.sk-label-container {text-align: center;}#sk-container-id-1 div.sk-container {/* jupyter's `normalize.less` sets `[hidden] { display: none; }` but bootstrap.min.css set `[hidden] { display: none !important; }` so we also need the `!important` here to be able to override the default hidden behavior on the sphinx rendered scikit-learn.org. See: https://github.com/scikit-learn/scikit-learn/issues/21755 */display: inline-block !important;position: relative;}#sk-container-id-1 div.sk-text-repr-fallback {display: none;}</style><div id=\"sk-container-id-1\" class=\"sk-top-container\"><div class=\"sk-text-repr-fallback\"><pre>LogisticRegressionCV(Cs=array([1.00000000e-04, 1.81160919e-04, 3.28192787e-04, 5.94557071e-04,\n",
       "       1.07710506e-03, 1.95129342e-03, 3.53498111e-03, 6.40400427e-03,\n",
       "       1.16015530e-02, 2.10174801e-02, 3.80754602e-02, 6.89778538e-02,\n",
       "       1.24960914e-01, 2.26380341e-01, 4.10112707e-01, 7.42963951e-01,\n",
       "       1.34596032e+00, 2.43835410e+00, 4.41734470e+00, 8.00250228e+00,\n",
       "       1.44974067e+01, 2.62...\n",
       "       0.17367309, 0.19603511, 0.22050809, 0.24709725, 0.27575834,\n",
       "       0.306391  , 0.33883449, 0.3728666 , 0.40820647, 0.44452166,\n",
       "       0.4814393 , 0.5185607 , 0.55547834, 0.59179353, 0.6271334 ,\n",
       "       0.66116551, 0.693609  , 0.72424166, 0.75290275, 0.77949191,\n",
       "       0.80396489, 0.82632691, 0.84662469, 0.86493795, 0.88137097,\n",
       "       0.89604488, 0.90909091]),\n",
       "                     max_iter=10000, n_jobs=-1, penalty=&#x27;elasticnet&#x27;,\n",
       "                     scoring=&#x27;neg_log_loss&#x27;, solver=&#x27;saga&#x27;)</pre><b>In a Jupyter environment, please rerun this cell to show the HTML representation or trust the notebook. <br />On GitHub, the HTML representation is unable to render, please try loading this page with nbviewer.org.</b></div><div class=\"sk-container\" hidden><div class=\"sk-item\"><div class=\"sk-estimator sk-toggleable\"><input class=\"sk-toggleable__control sk-hidden--visually\" id=\"sk-estimator-id-1\" type=\"checkbox\" checked><label for=\"sk-estimator-id-1\" class=\"sk-toggleable__label sk-toggleable__label-arrow\">LogisticRegressionCV</label><div class=\"sk-toggleable__content\"><pre>LogisticRegressionCV(Cs=array([1.00000000e-04, 1.81160919e-04, 3.28192787e-04, 5.94557071e-04,\n",
       "       1.07710506e-03, 1.95129342e-03, 3.53498111e-03, 6.40400427e-03,\n",
       "       1.16015530e-02, 2.10174801e-02, 3.80754602e-02, 6.89778538e-02,\n",
       "       1.24960914e-01, 2.26380341e-01, 4.10112707e-01, 7.42963951e-01,\n",
       "       1.34596032e+00, 2.43835410e+00, 4.41734470e+00, 8.00250228e+00,\n",
       "       1.44974067e+01, 2.62...\n",
       "       0.17367309, 0.19603511, 0.22050809, 0.24709725, 0.27575834,\n",
       "       0.306391  , 0.33883449, 0.3728666 , 0.40820647, 0.44452166,\n",
       "       0.4814393 , 0.5185607 , 0.55547834, 0.59179353, 0.6271334 ,\n",
       "       0.66116551, 0.693609  , 0.72424166, 0.75290275, 0.77949191,\n",
       "       0.80396489, 0.82632691, 0.84662469, 0.86493795, 0.88137097,\n",
       "       0.89604488, 0.90909091]),\n",
       "                     max_iter=10000, n_jobs=-1, penalty=&#x27;elasticnet&#x27;,\n",
       "                     scoring=&#x27;neg_log_loss&#x27;, solver=&#x27;saga&#x27;)</pre></div></div></div></div></div>"
      ],
      "text/plain": [
       "LogisticRegressionCV(Cs=array([1.00000000e-04, 1.81160919e-04, 3.28192787e-04, 5.94557071e-04,\n",
       "       1.07710506e-03, 1.95129342e-03, 3.53498111e-03, 6.40400427e-03,\n",
       "       1.16015530e-02, 2.10174801e-02, 3.80754602e-02, 6.89778538e-02,\n",
       "       1.24960914e-01, 2.26380341e-01, 4.10112707e-01, 7.42963951e-01,\n",
       "       1.34596032e+00, 2.43835410e+00, 4.41734470e+00, 8.00250228e+00,\n",
       "       1.44974067e+01, 2.62...\n",
       "       0.17367309, 0.19603511, 0.22050809, 0.24709725, 0.27575834,\n",
       "       0.306391  , 0.33883449, 0.3728666 , 0.40820647, 0.44452166,\n",
       "       0.4814393 , 0.5185607 , 0.55547834, 0.59179353, 0.6271334 ,\n",
       "       0.66116551, 0.693609  , 0.72424166, 0.75290275, 0.77949191,\n",
       "       0.80396489, 0.82632691, 0.84662469, 0.86493795, 0.88137097,\n",
       "       0.89604488, 0.90909091]),\n",
       "                     max_iter=10000, n_jobs=-1, penalty='elasticnet',\n",
       "                     scoring='neg_log_loss', solver='saga')"
      ]
     },
     "execution_count": 3,
     "metadata": {},
     "output_type": "execute_result"
    }
   ],
   "source": [
    "regr = LogisticRegressionCV(scoring='neg_log_loss', penalty='elasticnet', cv=10, solver='saga', n_jobs=-1, Cs=np.power(10,np.linspace(-4,4,32)) , l1_ratios=np.power(10,np.linspace(-1,1,32))/(1 + np.power(10,np.linspace(-1,1,32))), max_iter=10000)\n",
    "regr.fit(df.loc[:, df.columns != 'TARGET'].to_numpy(), df['TARGET'].to_numpy())"
   ]
  },
  {
   "cell_type": "code",
   "execution_count": 4,
   "id": "4425cf0c-33d6-4d24-8dd8-09ea3ec11752",
   "metadata": {},
   "outputs": [
    {
     "data": {
      "text/plain": [
       "array([0.22638034])"
      ]
     },
     "execution_count": 4,
     "metadata": {},
     "output_type": "execute_result"
    }
   ],
   "source": [
    "regr.C_"
   ]
  },
  {
   "cell_type": "code",
   "execution_count": 5,
   "id": "5a819e5d-6689-4cc1-9279-957f090e448c",
   "metadata": {},
   "outputs": [
    {
     "data": {
      "text/plain": [
       "array([0.306391])"
      ]
     },
     "execution_count": 5,
     "metadata": {},
     "output_type": "execute_result"
    }
   ],
   "source": [
    "regr.l1_ratio_"
   ]
  },
  {
   "cell_type": "code",
   "execution_count": 6,
   "id": "93c178df-305f-48bd-bce8-1af4e31dfbc7",
   "metadata": {},
   "outputs": [
    {
     "data": {
      "text/plain": [
       "array([-3.11215603])"
      ]
     },
     "execution_count": 6,
     "metadata": {},
     "output_type": "execute_result"
    }
   ],
   "source": [
    "regr.intercept_"
   ]
  },
  {
   "cell_type": "code",
   "execution_count": 7,
   "id": "b6829f5e-d391-4765-a05d-7618acc20e2b",
   "metadata": {},
   "outputs": [
    {
     "data": {
      "text/plain": [
       "array([[-0.41844248, -0.17750631, -0.088934  , -0.07335309, -0.15937906,\n",
       "        -0.09672799, -0.03659926,  0.01550435, -0.06330965, -0.06719953,\n",
       "         0.        ,  0.        ,  0.01127787,  0.46882277,  0.27066779,\n",
       "         0.01788762,  0.09949525,  0.20581858,  0.        ,  0.        ,\n",
       "         0.        , -0.11365847,  0.48073138,  0.23283916, -0.23808144,\n",
       "        -0.08144915, -0.11981365, -0.20108905]])"
      ]
     },
     "execution_count": 7,
     "metadata": {},
     "output_type": "execute_result"
    }
   ],
   "source": [
    "regr.coef_"
   ]
  },
  {
   "cell_type": "code",
   "execution_count": 8,
   "id": "c3043c90-46e0-44d8-a3d0-36dbe15449ff",
   "metadata": {},
   "outputs": [
    {
     "data": {
      "text/plain": [
       "array([0.04260861])"
      ]
     },
     "execution_count": 8,
     "metadata": {},
     "output_type": "execute_result"
    }
   ],
   "source": [
    "np.exp(regr.intercept_)/(1+np.exp(regr.intercept_))"
   ]
  },
  {
   "cell_type": "code",
   "execution_count": null,
   "id": "bb8737b3-1a20-4543-bc9a-cf51c7759664",
   "metadata": {},
   "outputs": [],
   "source": []
  }
 ],
 "metadata": {
  "kernelspec": {
   "display_name": "Python 3 (ipykernel)",
   "language": "python",
   "name": "python3"
  },
  "language_info": {
   "codemirror_mode": {
    "name": "ipython",
    "version": 3
   },
   "file_extension": ".py",
   "mimetype": "text/x-python",
   "name": "python",
   "nbconvert_exporter": "python",
   "pygments_lexer": "ipython3",
   "version": "3.10.6"
  }
 },
 "nbformat": 4,
 "nbformat_minor": 5
}
