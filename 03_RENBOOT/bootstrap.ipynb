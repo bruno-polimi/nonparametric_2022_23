{
 "cells": [
  {
   "cell_type": "code",
   "execution_count": 1,
   "id": "34314ba6-3ad4-40be-bc7c-7140aa5d4dc8",
   "metadata": {},
   "outputs": [],
   "source": [
    "import pandas as pd\n",
    "import pyreadr as pyreadr\n",
    "import numpy as np\n",
    "\n",
    "from sklearn.linear_model import LogisticRegression\n",
    "from sklearn.linear_model import LogisticRegressionCV\n",
    "\n",
    "indice_file = 1"
   ]
  },
  {
   "cell_type": "code",
   "execution_count": 2,
   "id": "d41ec396-69ca-435d-ae81-527903bd4682",
   "metadata": {},
   "outputs": [],
   "source": [
    "import open_data\n",
    "data = open_data.open()\n",
    "df = data['df']"
   ]
  },
  {
   "cell_type": "code",
   "execution_count": 3,
   "id": "5bc95eea-8061-4aca-af01-4ab22c561f1f",
   "metadata": {},
   "outputs": [],
   "source": [
    "from ipywidgets import IntProgress\n",
    "from IPython.display import display\n",
    "\n",
    "def compute_elastic_net(df):\n",
    "    regr = LogisticRegression(penalty='elasticnet' , l1_ratio=0.305, C=0.225, solver='saga', max_iter=10000)\n",
    "    regr.fit(df.loc[:, df.columns != 'TARGET'].to_numpy(), df['TARGET'].to_numpy())\n",
    "    return regr\n",
    "\n",
    "\n",
    "\n",
    "def compute_bootstrap_elastic_net(df, B):\n",
    "    da_ritornare = []\n",
    "    f = IntProgress(min=0, max=B-1)\n",
    "    display(f)\n",
    "    for i in range(B):\n",
    "        df_bootstrap = df.sample(frac=1, replace=True)\n",
    "        da_ritornare.append(compute_elastic_net(df_bootstrap))\n",
    "        f.value += 1\n",
    "    return da_ritornare\n",
    "\n",
    "\n",
    "\n",
    "def RENBOOT_pre(df, B):\n",
    "    aux = compute_bootstrap_elastic_net(df, B)\n",
    "    dizionario = {'intercette' : [], 'coefficienti' : []}\n",
    "    for reg in aux:\n",
    "        dizionario['intercette'].append(reg.intercept_)\n",
    "        dizionario['coefficienti'].append(reg.coef_.flatten())\n",
    "            \n",
    "    dizionario['intercette'] = np.array(dizionario['intercette']).flatten()\n",
    "    dizionario['coefficienti'] = np.array(dizionario['coefficienti'])\n",
    "\n",
    "    return dizionario\n"
   ]
  },
  {
   "cell_type": "code",
   "execution_count": 4,
   "id": "dcc690b4-d44d-4e5d-941c-0de96ec7a169",
   "metadata": {},
   "outputs": [
    {
     "data": {
      "application/vnd.jupyter.widget-view+json": {
       "model_id": "f4e04e294779401aadca60672b2ad678",
       "version_major": 2,
       "version_minor": 0
      },
      "text/plain": [
       "IntProgress(value=0, max=1249)"
      ]
     },
     "metadata": {},
     "output_type": "display_data"
    }
   ],
   "source": [
    "aux = RENBOOT_pre(df, 1250)"
   ]
  },
  {
   "cell_type": "code",
   "execution_count": 5,
   "id": "4dfea124-5c38-4381-978b-352f7b15257a",
   "metadata": {},
   "outputs": [],
   "source": [
    "np.savez('./risultati_renboot/saved_results_'+str(indice_file)+'.npz', intercette=aux['intercette'], coefficienti=aux['coefficienti'])"
   ]
  }
 ],
 "metadata": {
  "kernelspec": {
   "display_name": "Python 3 (ipykernel)",
   "language": "python",
   "name": "python3"
  },
  "language_info": {
   "codemirror_mode": {
    "name": "ipython",
    "version": 3
   },
   "file_extension": ".py",
   "mimetype": "text/x-python",
   "name": "python",
   "nbconvert_exporter": "python",
   "pygments_lexer": "ipython3",
   "version": "3.10.6"
  }
 },
 "nbformat": 4,
 "nbformat_minor": 5
}
